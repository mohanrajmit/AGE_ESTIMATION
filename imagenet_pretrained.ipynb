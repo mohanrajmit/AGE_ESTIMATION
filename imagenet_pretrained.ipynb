{
  "nbformat": 4,
  "nbformat_minor": 0,
  "metadata": {
    "colab": {
      "provenance": [],
      "authorship_tag": "ABX9TyNdU1CCVLincTIKHciMRiYA",
      "include_colab_link": true
    },
    "kernelspec": {
      "name": "python3",
      "display_name": "Python 3"
    },
    "language_info": {
      "name": "python"
    }
  },
  "cells": [
    {
      "cell_type": "markdown",
      "metadata": {
        "id": "view-in-github",
        "colab_type": "text"
      },
      "source": [
        "<a href=\"https://colab.research.google.com/github/mohanrajmit/AGE_ESTIMATION/blob/master/imagenet_pretrained.ipynb\" target=\"_parent\"><img src=\"https://colab.research.google.com/assets/colab-badge.svg\" alt=\"Open In Colab\"/></a>"
      ]
    },
    {
      "cell_type": "code",
      "execution_count": null,
      "metadata": {
        "id": "84c5iOAcGrAX"
      },
      "outputs": [],
      "source": [
        "# USAGE\n",
        "# python imagenet_pretrained.py --image example_images/example_01.jpg --model vgg16\n",
        "\n",
        "# import the necessary packages\n",
        "from tensorflow.keras.applications import ResNet50\n",
        "from tensorflow.keras.applications import InceptionV3\n",
        "#from tensorflow.keras.applications import Xception\n",
        "from tensorflow.keras.applications import VGG16\n",
        "from tensorflow.keras.applications import VGG19\n",
        "from tensorflow.keras.applications import imagenet_utils\n",
        "from tensorflow.keras.applications.inception_v3 import preprocess_input\n",
        "from tensorflow.keras.preprocessing.image import img_to_array\n",
        "from tensorflow.keras.preprocessing.image import load_img\n",
        "import numpy as np\n",
        "import cv2\n"
      ]
    },
    {
      "cell_type": "code",
      "source": [
        "# initialize the input image shape (224x224 pixels) along with\n",
        "# the pre-processing function (this might need to be changed\n",
        "# based on which model we use to classify our image)\n",
        "inputShape = (224, 224)\n",
        "inputShape_inception = (299,299)\n",
        "preprocess = imagenet_utils.preprocess_input\n",
        "preprocess_inception = preprocess_input\n",
        "\n",
        "\n",
        "Network_vgg16 = VGG16\n",
        "model_vgg16 = Network_vgg16(weights=\"imagenet\")\n",
        "\n"
      ],
      "metadata": {
        "id": "u8S0MEPUG7qr"
      },
      "execution_count": null,
      "outputs": []
    },
    {
      "cell_type": "code",
      "source": [
        "model_resnet = ResNet50(weights=\"imagenet\")"
      ],
      "metadata": {
        "id": "kxecYMRqK0S4"
      },
      "execution_count": null,
      "outputs": []
    },
    {
      "cell_type": "code",
      "source": [
        "model_inception = InceptionV3(weights=\"imagenet\")"
      ],
      "metadata": {
        "id": "60LRtjVAL__Z"
      },
      "execution_count": null,
      "outputs": []
    },
    {
      "cell_type": "code",
      "source": [
        "model_vgg19 = VGG19(weights=\"imagenet\")"
      ],
      "metadata": {
        "id": "PLmy2Hdz1f-R"
      },
      "execution_count": null,
      "outputs": []
    },
    {
      "cell_type": "code",
      "source": [
        "model_resnet.summary()"
      ],
      "metadata": {
        "id": "jemiNOV4K87a"
      },
      "execution_count": null,
      "outputs": []
    },
    {
      "cell_type": "code",
      "source": [
        "model_vgg16.summary()"
      ],
      "metadata": {
        "id": "xAGX6GXdHdLY"
      },
      "execution_count": null,
      "outputs": []
    },
    {
      "cell_type": "code",
      "source": [
        "model_vgg19.summary()"
      ],
      "metadata": {
        "id": "MXYW0v3t1w51"
      },
      "execution_count": null,
      "outputs": []
    },
    {
      "cell_type": "code",
      "source": [
        "# load the input image using the Keras helper utility while ensuring\n",
        "# the image is resized to `inputShape`, the required input dimensions\n",
        "# for the ImageNet pre-trained network\n",
        "print(\"[INFO] loading and pre-processing image...\")\n",
        "image = load_img(\"/content/1.jpg\", target_size=inputShape)\n",
        "image = img_to_array(image)\n",
        "\n"
      ],
      "metadata": {
        "id": "anhaXXVoHg_h"
      },
      "execution_count": null,
      "outputs": []
    },
    {
      "cell_type": "code",
      "source": [
        "image.shape"
      ],
      "metadata": {
        "id": "CfA1hmBdNYEa"
      },
      "execution_count": null,
      "outputs": []
    },
    {
      "cell_type": "code",
      "source": [
        "# for the ImageNet pre-trained network\n",
        "print(\"[INFO] loading and pre-processing image...\")\n",
        "image_inception = load_img(\"/content/1.jpg\", target_size=inputShape_inception)\n",
        "image_incpetion = img_to_array(image_inception)"
      ],
      "metadata": {
        "id": "BLna7typNNkA"
      },
      "execution_count": null,
      "outputs": []
    },
    {
      "cell_type": "code",
      "source": [
        "image_incpetion.shape"
      ],
      "metadata": {
        "id": "n5zu8t_VH551"
      },
      "execution_count": null,
      "outputs": []
    },
    {
      "cell_type": "code",
      "source": [
        "import matplotlib.pyplot as plt\n",
        "\n",
        "from google.colab.patches import cv2_imshow\n",
        "\n"
      ],
      "metadata": {
        "id": "RFN4w3VEH8sm"
      },
      "execution_count": null,
      "outputs": []
    },
    {
      "cell_type": "code",
      "source": [
        "cv2_imshow(image)"
      ],
      "metadata": {
        "id": "IdRTETDyH_VM"
      },
      "execution_count": null,
      "outputs": []
    },
    {
      "cell_type": "code",
      "source": [
        "# our input image is now represented as a NumPy array of shape\n",
        "# (inputShape[0], inputShape[1], 3) however we need to expand the\n",
        "# dimension by making the shape (1, inputShape[0], inputShape[1], 3)\n",
        "# so we can pass it through thenetwork\n",
        "image = np.expand_dims(image, axis=0)\n",
        "\n",
        "# pre-process the image using the appropriate function based on the\n",
        "# model that has been loaded (i.e., mean subtraction, scaling, etc.)\n",
        "image = preprocess(image)\n",
        "\n"
      ],
      "metadata": {
        "id": "U5R8vQU7HvG-"
      },
      "execution_count": null,
      "outputs": []
    },
    {
      "cell_type": "code",
      "source": [
        "image_inception = np.expand_dims(image_inception, axis=0)\n",
        "\n",
        "# pre-process the image using the appropriate function based on the\n",
        "# model that has been loaded (i.e., mean subtraction, scaling, etc.)\n",
        "image_inception = preprocess_inception(image_inception)"
      ],
      "metadata": {
        "id": "HxhodAfuNx20"
      },
      "execution_count": null,
      "outputs": []
    },
    {
      "cell_type": "code",
      "source": [
        "# classify the image\n",
        "#print(\"[INFO] classifying image with '{}'...\".format(args[\"model\"]))\n",
        "preds_vgg16 = model_vgg16.predict(image)\n",
        "P = imagenet_utils.decode_predictions(preds_vgg16)\n",
        "P\n",
        "\n"
      ],
      "metadata": {
        "id": "A3PDS5u-ITTR"
      },
      "execution_count": null,
      "outputs": []
    },
    {
      "cell_type": "code",
      "source": [
        "pred_resnet=model_resnet.predict(image)"
      ],
      "metadata": {
        "id": "q9s7PlLQLEuU"
      },
      "execution_count": null,
      "outputs": []
    },
    {
      "cell_type": "code",
      "source": [
        "P = imagenet_utils.decode_predictions(pred_resnet)\n",
        "P"
      ],
      "metadata": {
        "id": "4x64ui_kIV8p"
      },
      "execution_count": null,
      "outputs": []
    },
    {
      "cell_type": "code",
      "source": [
        "preds_vgg19 = model_vgg19.predict(image)\n",
        "P = imagenet_utils.decode_predictions(preds_vgg19)\n",
        "P"
      ],
      "metadata": {
        "id": "_TGQ-kkZIbD6"
      },
      "execution_count": null,
      "outputs": []
    },
    {
      "cell_type": "code",
      "source": [
        "np.argmax(preds_vgg19)"
      ],
      "metadata": {
        "id": "Ua0CtNmv3kGT"
      },
      "execution_count": null,
      "outputs": []
    },
    {
      "cell_type": "code",
      "source": [],
      "metadata": {
        "id": "KAbXU1eh2SeK"
      },
      "execution_count": null,
      "outputs": []
    }
  ]
}